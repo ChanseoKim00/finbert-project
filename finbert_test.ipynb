{
  "nbformat": 4,
  "nbformat_minor": 0,
  "metadata": {
    "colab": {
      "provenance": [],
      "authorship_tag": "ABX9TyPT6uUHgsrHjMm4RrSGHD1n",
      "include_colab_link": true
    },
    "kernelspec": {
      "name": "python3",
      "display_name": "Python 3"
    },
    "language_info": {
      "name": "python"
    }
  },
  "cells": [
    {
      "cell_type": "markdown",
      "metadata": {
        "id": "view-in-github",
        "colab_type": "text"
      },
      "source": [
        "<a href=\"https://colab.research.google.com/github/ChanseoKim00/finbert-project/blob/main/finbert_test.ipynb\" target=\"_parent\"><img src=\"https://colab.research.google.com/assets/colab-badge.svg\" alt=\"Open In Colab\"/></a>"
      ]
    },
    {
      "cell_type": "code",
      "execution_count": null,
      "metadata": {
        "colab": {
          "base_uri": "https://localhost:8080/"
        },
        "id": "V8CQ50YhjUBJ",
        "outputId": "38f2766c-3f94-4dd1-b457-c87282dcfdd8"
      },
      "outputs": [
        {
          "output_type": "stream",
          "name": "stdout",
          "text": [
            "Mounted at /content/drive\n"
          ]
        }
      ],
      "source": [
        "from google.colab import drive\n",
        "drive.mount('/content/drive')\n"
      ]
    },
    {
      "cell_type": "code",
      "source": [
        "!ls /content/drive/MyDrive\n"
      ],
      "metadata": {
        "colab": {
          "base_uri": "https://localhost:8080/"
        },
        "id": "qL7hjCJ1jnOn",
        "outputId": "81159cb5-4bc3-4420-a360-1bb37be205ff"
      },
      "execution_count": null,
      "outputs": [
        {
          "output_type": "stream",
          "name": "stdout",
          "text": [
            " 1079_ec797a6c0b-1.hwp\n",
            " 1079_fdeccb4d55.hwp\n",
            " 1138_52f03ec7a3.hwp\n",
            " Classroom\n",
            "'Colab Notebooks'\n",
            "'https:  truthman.co.kr -Performance-on-Search-2023-09-05.gsheet'\n",
            "'IMG_1392 (1).jpeg'\n",
            " IMG_1392.jpeg\n",
            "'제목 없는 스프레드시트.gsheet'\n"
          ]
        }
      ]
    },
    {
      "cell_type": "code",
      "source": [
        "import os\n",
        "\n",
        "base_path = '/content/drive/MyDrive/FinBERT_Project'\n",
        "os.makedirs(base_path, exist_ok=True)\n",
        "\n",
        "print(\"작업 폴더 생성 완료:\", base_path)\n"
      ],
      "metadata": {
        "colab": {
          "base_uri": "https://localhost:8080/"
        },
        "id": "9iKxkqTZj6YD",
        "outputId": "097524dc-4c24-4d1c-fa2d-6b8b16599376"
      },
      "execution_count": null,
      "outputs": [
        {
          "output_type": "stream",
          "name": "stdout",
          "text": [
            "작업 폴더 생성 완료: /content/drive/MyDrive/FinBERT_Project\n"
          ]
        }
      ]
    }
  ]
}