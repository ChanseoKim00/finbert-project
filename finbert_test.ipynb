{
  "nbformat": 4,
  "nbformat_minor": 0,
  "metadata": {
    "colab": {
      "provenance": [],
      "authorship_tag": "ABX9TyM78vuE3CXc5Yl+ckRurLw9",
      "include_colab_link": true
    },
    "kernelspec": {
      "name": "python3",
      "display_name": "Python 3"
    },
    "language_info": {
      "name": "python"
    }
  },
  "cells": [
    {
      "cell_type": "markdown",
      "metadata": {
        "id": "view-in-github",
        "colab_type": "text"
      },
      "source": [
        "<a href=\"https://colab.research.google.com/github/ChanseoKim00/finbert-project/blob/main/finbert_test.ipynb\" target=\"_parent\"><img src=\"https://colab.research.google.com/assets/colab-badge.svg\" alt=\"Open In Colab\"/></a>"
      ]
    },
    {
      "cell_type": "code",
      "execution_count": 10,
      "metadata": {
        "colab": {
          "base_uri": "https://localhost:8080/"
        },
        "id": "V8CQ50YhjUBJ",
        "outputId": "9716b05e-70c6-4b69-d81a-2273e17ebfc2"
      },
      "outputs": [
        {
          "output_type": "stream",
          "name": "stdout",
          "text": [
            "Mounted at /content/drive\n"
          ]
        }
      ],
      "source": [
        "from google.colab import drive\n",
        "drive.mount('/content/drive')\n"
      ]
    },
    {
      "cell_type": "code",
      "source": [
        "!ls /content/drive/MyDrive\n"
      ],
      "metadata": {
        "colab": {
          "base_uri": "https://localhost:8080/"
        },
        "id": "qL7hjCJ1jnOn",
        "outputId": "8964cd18-1a04-4f08-a70d-c580b3063cf6"
      },
      "execution_count": 11,
      "outputs": [
        {
          "output_type": "stream",
          "name": "stdout",
          "text": [
            " 1079_ec797a6c0b-1.hwp\n",
            " 1079_fdeccb4d55.hwp\n",
            " 1138_52f03ec7a3.hwp\n",
            " Classroom\n",
            "'Colab Notebooks'\n",
            " FinBERT_Project\n",
            "'https:  truthman.co.kr -Performance-on-Search-2023-09-05.gsheet'\n",
            "'IMG_1392 (1).jpeg'\n",
            " IMG_1392.jpeg\n",
            "'제목 없는 스프레드시트.gsheet'\n"
          ]
        }
      ]
    },
    {
      "cell_type": "code",
      "source": [
        "import os\n",
        "\n",
        "base_path = '/content/drive/MyDrive/FinBERT_Project'\n",
        "os.makedirs(base_path, exist_ok=True)\n",
        "\n",
        "print(\"작업 폴더 생성 완료:\", base_path)\n"
      ],
      "metadata": {
        "colab": {
          "base_uri": "https://localhost:8080/"
        },
        "id": "9iKxkqTZj6YD",
        "outputId": "fd53deca-fedb-4c06-f212-5588a3b8cd44"
      },
      "execution_count": 12,
      "outputs": [
        {
          "output_type": "stream",
          "name": "stdout",
          "text": [
            "작업 폴더 생성 완료: /content/drive/MyDrive/FinBERT_Project\n"
          ]
        }
      ]
    },
    {
      "cell_type": "code",
      "source": [
        "!pip install -q transformers\n",
        "\n",
        "from transformers import AutoTokenizer, AutoModelForSequenceClassification\n",
        "import torch\n",
        "import numpy as np\n",
        "\n",
        "# 모델 불러오기\n",
        "model_name = \"yiyanghkust/finbert-tone\"\n",
        "tokenizer = AutoTokenizer.from_pretrained(model_name)\n",
        "model = AutoModelForSequenceClassification.from_pretrained(model_name)\n"
      ],
      "metadata": {
        "id": "RKEklSsYeGP9"
      },
      "execution_count": 13,
      "outputs": []
    },
    {
      "cell_type": "code",
      "source": [
        "def analyze_sentiment(text):\n",
        "    inputs = tokenizer(text, return_tensors=\"pt\", truncation=True)\n",
        "    with torch.no_grad():\n",
        "        outputs = model(**inputs)\n",
        "        scores = torch.nn.functional.softmax(outputs.logits, dim=1).squeeze().numpy()\n",
        "\n",
        "    labels = [\"negative\", \"neutral\", \"positive\"]\n",
        "    result = {labels[i]: float(scores[i]) for i in range(3)}\n",
        "    return sorted(result.items(), key=lambda x: -x[1])\n",
        "\n",
        "# 예제 문장\n",
        "sentence = \"Nvidia stock surges after AI chip demand beats expectations\"\n",
        "result = analyze_sentiment(sentence)\n",
        "print(\"Sentiment Analysis Result:\")\n",
        "for label, score in result:\n",
        "    print(f\"{label.capitalize()}: {score:.2f}\")\n"
      ],
      "metadata": {
        "colab": {
          "base_uri": "https://localhost:8080/"
        },
        "id": "fd_RLW3dfDAN",
        "outputId": "124a440f-3318-4c1a-8483-c5f9d3f2c3b5"
      },
      "execution_count": 14,
      "outputs": [
        {
          "output_type": "stream",
          "name": "stderr",
          "text": [
            "Asking to truncate to max_length but no maximum length is provided and the model has no predefined maximum length. Default to no truncation.\n"
          ]
        },
        {
          "output_type": "stream",
          "name": "stdout",
          "text": [
            "Sentiment Analysis Result:\n",
            "Neutral: 1.00\n",
            "Positive: 0.00\n",
            "Negative: 0.00\n"
          ]
        }
      ]
    },
    {
      "cell_type": "code",
      "source": [
        "def analyze_sentiment(text):\n",
        "    inputs = tokenizer(text, return_tensors=\"pt\", truncation=True)\n",
        "    with torch.no_grad():\n",
        "        outputs = model(**inputs)\n",
        "        scores = torch.nn.functional.softmax(outputs.logits, dim=1).squeeze().numpy()\n",
        "\n",
        "    labels = [\"negative\", \"neutral\", \"positive\"]\n",
        "    result = {labels[i]: float(scores[i]) for i in range(3)}\n",
        "    return sorted(result.items(), key=lambda x: -x[1])\n",
        "\n",
        "# 예제 문장\n",
        "sentence = \"Nvidia stock surges after AI chip demand beats expectations\"\n",
        "result = analyze_sentiment(sentence)\n",
        "print(\"Sentiment Analysis Result:\")\n",
        "for label, score in result:\n",
        "    print(f\"{label.capitalize()}: {score:.2f}\")\n"
      ],
      "metadata": {
        "colab": {
          "base_uri": "https://localhost:8080/"
        },
        "id": "SxdRHqVTfLmU",
        "outputId": "dda09ba1-0837-4411-9cc5-d960aeb3f5d5"
      },
      "execution_count": 15,
      "outputs": [
        {
          "output_type": "stream",
          "name": "stdout",
          "text": [
            "Sentiment Analysis Result:\n",
            "Neutral: 1.00\n",
            "Positive: 0.00\n",
            "Negative: 0.00\n"
          ]
        }
      ]
    },
    {
      "cell_type": "code",
      "source": [
        "def analyze_sentiment(text):\n",
        "    inputs = tokenizer(text, return_tensors=\"pt\", truncation=True)\n",
        "    with torch.no_grad():\n",
        "        outputs = model(**inputs)\n",
        "        logits = outputs.logits.to(torch.float32)  # <-- 여기를 추가!\n",
        "        scores = torch.nn.functional.softmax(logits, dim=1).squeeze().numpy()\n",
        "\n",
        "    labels = [\"negative\", \"neutral\", \"positive\"]\n",
        "    result = {labels[i]: float(scores[i]) for i in range(3)}\n",
        "    return sorted(result.items(), key=lambda x: -x[1])\n"
      ],
      "metadata": {
        "id": "HWVJmvLLfmja"
      },
      "execution_count": 16,
      "outputs": []
    },
    {
      "cell_type": "code",
      "source": [
        "def analyze_sentiment(text):\n",
        "    inputs = tokenizer(text, return_tensors=\"pt\", truncation=True)\n",
        "    with torch.no_grad():\n",
        "        outputs = model(**inputs)\n",
        "        scores = torch.nn.functional.softmax(outputs.logits, dim=1).squeeze().numpy()\n",
        "\n",
        "    labels = [\"negative\", \"neutral\", \"positive\"]\n",
        "    result = {labels[i]: float(scores[i]) for i in range(3)}\n",
        "    return sorted(result.items(), key=lambda x: -x[1])\n",
        "\n",
        "# 예제 문장\n",
        "sentence = \"Nvidia stock surges after AI chip demand beats expectations\"\n",
        "result = analyze_sentiment(sentence)\n",
        "print(\"Sentiment Analysis Result:\")\n",
        "for label, score in result:\n",
        "    print(f\"{label.capitalize()}: {score:.2f}\")\n"
      ],
      "metadata": {
        "colab": {
          "base_uri": "https://localhost:8080/"
        },
        "id": "k9A8Z1p4foiK",
        "outputId": "3162caf4-253d-4285-f567-b7be10be2a71"
      },
      "execution_count": 17,
      "outputs": [
        {
          "output_type": "stream",
          "name": "stdout",
          "text": [
            "Sentiment Analysis Result:\n",
            "Neutral: 1.00\n",
            "Positive: 0.00\n",
            "Negative: 0.00\n"
          ]
        }
      ]
    },
    {
      "cell_type": "code",
      "source": [
        "def analyze_sentiment(text):\n",
        "    inputs = tokenizer(text, return_tensors=\"pt\", truncation=True)\n",
        "    with torch.no_grad():\n",
        "        outputs = model(**inputs)\n",
        "        scores = torch.nn.functional.softmax(outputs.logits, dim=1).squeeze().numpy()\n",
        "\n",
        "    labels = [\"negative\", \"neutral\", \"positive\"]\n",
        "    result = {labels[i]: float(scores[i]) for i in range(3)}\n",
        "    return sorted(result.items(), key=lambda x: -x[1])\n",
        "\n",
        "# 예제 문장\n",
        "sentence = \"Nvidia stock rises 12% after soften regulations\"\n",
        "result = analyze_sentiment(sentence)\n",
        "print(\"Sentiment Analysis Result:\")\n",
        "for label, score in result:\n",
        "    print(f\"{label.capitalize()}: {score:.2f}\")\n"
      ],
      "metadata": {
        "colab": {
          "base_uri": "https://localhost:8080/"
        },
        "id": "2INRRYlEfvL1",
        "outputId": "da5cb53d-b30d-47e5-f424-8242b3c64701"
      },
      "execution_count": 18,
      "outputs": [
        {
          "output_type": "stream",
          "name": "stdout",
          "text": [
            "Sentiment Analysis Result:\n",
            "Neutral: 1.00\n",
            "Negative: 0.00\n",
            "Positive: 0.00\n"
          ]
        }
      ]
    },
    {
      "cell_type": "code",
      "source": [
        "!pip install feedparser\n"
      ],
      "metadata": {
        "colab": {
          "base_uri": "https://localhost:8080/"
        },
        "id": "-aGU2nMzgZqe",
        "outputId": "f6c549c8-0d05-4e8d-bc2d-783ed2303548"
      },
      "execution_count": 20,
      "outputs": [
        {
          "output_type": "stream",
          "name": "stdout",
          "text": [
            "Requirement already satisfied: feedparser in /usr/local/lib/python3.11/dist-packages (6.0.11)\n",
            "Requirement already satisfied: sgmllib3k in /usr/local/lib/python3.11/dist-packages (from feedparser) (1.0.0)\n"
          ]
        }
      ]
    },
    {
      "cell_type": "code",
      "source": [
        "import feedparser\n",
        "from transformers import AutoTokenizer, AutoModelForSequenceClassification\n",
        "import torch\n",
        "import pandas as pd\n",
        "\n",
        "# 모델 및 토크나이저 로드\n",
        "model_name = \"yiyanghkust/finbert-tone\"\n",
        "tokenizer = AutoTokenizer.from_pretrained(model_name)\n",
        "model = AutoModelForSequenceClassification.from_pretrained(model_name)\n",
        "\n",
        "def analyze_sentiment(text):\n",
        "    inputs = tokenizer(text, return_tensors=\"pt\", truncation=True)\n",
        "    with torch.no_grad():\n",
        "        logits = model(**inputs).logits.to(torch.float32)\n",
        "        scores = torch.nn.functional.softmax(logits, dim=1).squeeze().numpy()\n",
        "    labels = [\"negative\", \"neutral\", \"positive\"]\n",
        "    return {labels[i]: float(scores[i]) for i in range(3)}\n",
        "\n",
        "def get_google_news_titles(keyword, max_items=10):\n",
        "    feed_url = f\"https://news.google.com/rss/search?q={keyword}+stock&hl=en-US&gl=US&ceid=US:en\"\n",
        "    feed = feedparser.parse(feed_url)\n",
        "    return [entry.title for entry in feed.entries[:max_items]]\n",
        "\n",
        "# 키워드 입력\n",
        "keyword = \"Nvidia\"\n",
        "titles = get_google_news_titles(keyword)\n",
        "\n",
        "# 결과 분석\n",
        "results = []\n",
        "for title in titles:\n",
        "    scores = analyze_sentiment(title)\n",
        "    results.append({\n",
        "        \"title\": title,\n",
        "        \"positive\": round(scores[\"positive\"], 3),\n",
        "        \"neutral\": round(scores[\"neutral\"], 3),\n",
        "        \"negative\": round(scores[\"negative\"], 3)\n",
        "    })\n",
        "\n",
        "# 표 형태로 출력\n",
        "df = pd.DataFrame(results)\n",
        "df.sort_values(\"positive\", ascending=False).reset_index(drop=True)\n"
      ],
      "metadata": {
        "colab": {
          "base_uri": "https://localhost:8080/",
          "height": 381
        },
        "id": "yYiFB69Sgc5-",
        "outputId": "56cc4c2a-a121-4b7a-85e7-60ac9d3fb6aa"
      },
      "execution_count": 21,
      "outputs": [
        {
          "output_type": "stream",
          "name": "stderr",
          "text": [
            "Asking to truncate to max_length but no maximum length is provided and the model has no predefined maximum length. Default to no truncation.\n"
          ]
        },
        {
          "output_type": "execute_result",
          "data": {
            "text/plain": [
              "                                               title  positive  neutral  \\\n",
              "0  Nvidia Stock Drops as Trump Trade Fears Hit th...     0.990    0.004   \n",
              "1  Super Micro Stock (SMCI) Jumps About 60% — Is ...     0.001    0.819   \n",
              "2  Nvidia-backed stock sends a quiet shockwave th...     0.000    0.000   \n",
              "3  Where Will Nvidia Stock Be in 1 Year? - Yahoo ...     0.000    0.000   \n",
              "4  Nvidia Stock Is on a Tear. How It Can Beat App...     0.000    1.000   \n",
              "5  Better Artificial Intelligence Stock: Nvidia v...     0.000    1.000   \n",
              "6  Tesla, Nvidia, Shell, Netflix, and More Stock ...     0.000    0.493   \n",
              "7  Prediction: Nvidia Will Soar in the Second Hal...     0.000    0.903   \n",
              "8  Nvidia stock is on a tear. This ‘next big thin...     0.000    0.999   \n",
              "9  Nvidia's stock gains put it nearly on track to...     0.000    1.000   \n",
              "\n",
              "   negative  \n",
              "0     0.005  \n",
              "1     0.180  \n",
              "2     1.000  \n",
              "3     1.000  \n",
              "4     0.000  \n",
              "5     0.000  \n",
              "6     0.507  \n",
              "7     0.097  \n",
              "8     0.001  \n",
              "9     0.000  "
            ],
            "text/html": [
              "\n",
              "  <div id=\"df-b32f9d82-7338-45ba-b653-a5bd83cb4870\" class=\"colab-df-container\">\n",
              "    <div>\n",
              "<style scoped>\n",
              "    .dataframe tbody tr th:only-of-type {\n",
              "        vertical-align: middle;\n",
              "    }\n",
              "\n",
              "    .dataframe tbody tr th {\n",
              "        vertical-align: top;\n",
              "    }\n",
              "\n",
              "    .dataframe thead th {\n",
              "        text-align: right;\n",
              "    }\n",
              "</style>\n",
              "<table border=\"1\" class=\"dataframe\">\n",
              "  <thead>\n",
              "    <tr style=\"text-align: right;\">\n",
              "      <th></th>\n",
              "      <th>title</th>\n",
              "      <th>positive</th>\n",
              "      <th>neutral</th>\n",
              "      <th>negative</th>\n",
              "    </tr>\n",
              "  </thead>\n",
              "  <tbody>\n",
              "    <tr>\n",
              "      <th>0</th>\n",
              "      <td>Nvidia Stock Drops as Trump Trade Fears Hit th...</td>\n",
              "      <td>0.990</td>\n",
              "      <td>0.004</td>\n",
              "      <td>0.005</td>\n",
              "    </tr>\n",
              "    <tr>\n",
              "      <th>1</th>\n",
              "      <td>Super Micro Stock (SMCI) Jumps About 60% — Is ...</td>\n",
              "      <td>0.001</td>\n",
              "      <td>0.819</td>\n",
              "      <td>0.180</td>\n",
              "    </tr>\n",
              "    <tr>\n",
              "      <th>2</th>\n",
              "      <td>Nvidia-backed stock sends a quiet shockwave th...</td>\n",
              "      <td>0.000</td>\n",
              "      <td>0.000</td>\n",
              "      <td>1.000</td>\n",
              "    </tr>\n",
              "    <tr>\n",
              "      <th>3</th>\n",
              "      <td>Where Will Nvidia Stock Be in 1 Year? - Yahoo ...</td>\n",
              "      <td>0.000</td>\n",
              "      <td>0.000</td>\n",
              "      <td>1.000</td>\n",
              "    </tr>\n",
              "    <tr>\n",
              "      <th>4</th>\n",
              "      <td>Nvidia Stock Is on a Tear. How It Can Beat App...</td>\n",
              "      <td>0.000</td>\n",
              "      <td>1.000</td>\n",
              "      <td>0.000</td>\n",
              "    </tr>\n",
              "    <tr>\n",
              "      <th>5</th>\n",
              "      <td>Better Artificial Intelligence Stock: Nvidia v...</td>\n",
              "      <td>0.000</td>\n",
              "      <td>1.000</td>\n",
              "      <td>0.000</td>\n",
              "    </tr>\n",
              "    <tr>\n",
              "      <th>6</th>\n",
              "      <td>Tesla, Nvidia, Shell, Netflix, and More Stock ...</td>\n",
              "      <td>0.000</td>\n",
              "      <td>0.493</td>\n",
              "      <td>0.507</td>\n",
              "    </tr>\n",
              "    <tr>\n",
              "      <th>7</th>\n",
              "      <td>Prediction: Nvidia Will Soar in the Second Hal...</td>\n",
              "      <td>0.000</td>\n",
              "      <td>0.903</td>\n",
              "      <td>0.097</td>\n",
              "    </tr>\n",
              "    <tr>\n",
              "      <th>8</th>\n",
              "      <td>Nvidia stock is on a tear. This ‘next big thin...</td>\n",
              "      <td>0.000</td>\n",
              "      <td>0.999</td>\n",
              "      <td>0.001</td>\n",
              "    </tr>\n",
              "    <tr>\n",
              "      <th>9</th>\n",
              "      <td>Nvidia's stock gains put it nearly on track to...</td>\n",
              "      <td>0.000</td>\n",
              "      <td>1.000</td>\n",
              "      <td>0.000</td>\n",
              "    </tr>\n",
              "  </tbody>\n",
              "</table>\n",
              "</div>\n",
              "    <div class=\"colab-df-buttons\">\n",
              "\n",
              "  <div class=\"colab-df-container\">\n",
              "    <button class=\"colab-df-convert\" onclick=\"convertToInteractive('df-b32f9d82-7338-45ba-b653-a5bd83cb4870')\"\n",
              "            title=\"Convert this dataframe to an interactive table.\"\n",
              "            style=\"display:none;\">\n",
              "\n",
              "  <svg xmlns=\"http://www.w3.org/2000/svg\" height=\"24px\" viewBox=\"0 -960 960 960\">\n",
              "    <path d=\"M120-120v-720h720v720H120Zm60-500h600v-160H180v160Zm220 220h160v-160H400v160Zm0 220h160v-160H400v160ZM180-400h160v-160H180v160Zm440 0h160v-160H620v160ZM180-180h160v-160H180v160Zm440 0h160v-160H620v160Z\"/>\n",
              "  </svg>\n",
              "    </button>\n",
              "\n",
              "  <style>\n",
              "    .colab-df-container {\n",
              "      display:flex;\n",
              "      gap: 12px;\n",
              "    }\n",
              "\n",
              "    .colab-df-convert {\n",
              "      background-color: #E8F0FE;\n",
              "      border: none;\n",
              "      border-radius: 50%;\n",
              "      cursor: pointer;\n",
              "      display: none;\n",
              "      fill: #1967D2;\n",
              "      height: 32px;\n",
              "      padding: 0 0 0 0;\n",
              "      width: 32px;\n",
              "    }\n",
              "\n",
              "    .colab-df-convert:hover {\n",
              "      background-color: #E2EBFA;\n",
              "      box-shadow: 0px 1px 2px rgba(60, 64, 67, 0.3), 0px 1px 3px 1px rgba(60, 64, 67, 0.15);\n",
              "      fill: #174EA6;\n",
              "    }\n",
              "\n",
              "    .colab-df-buttons div {\n",
              "      margin-bottom: 4px;\n",
              "    }\n",
              "\n",
              "    [theme=dark] .colab-df-convert {\n",
              "      background-color: #3B4455;\n",
              "      fill: #D2E3FC;\n",
              "    }\n",
              "\n",
              "    [theme=dark] .colab-df-convert:hover {\n",
              "      background-color: #434B5C;\n",
              "      box-shadow: 0px 1px 3px 1px rgba(0, 0, 0, 0.15);\n",
              "      filter: drop-shadow(0px 1px 2px rgba(0, 0, 0, 0.3));\n",
              "      fill: #FFFFFF;\n",
              "    }\n",
              "  </style>\n",
              "\n",
              "    <script>\n",
              "      const buttonEl =\n",
              "        document.querySelector('#df-b32f9d82-7338-45ba-b653-a5bd83cb4870 button.colab-df-convert');\n",
              "      buttonEl.style.display =\n",
              "        google.colab.kernel.accessAllowed ? 'block' : 'none';\n",
              "\n",
              "      async function convertToInteractive(key) {\n",
              "        const element = document.querySelector('#df-b32f9d82-7338-45ba-b653-a5bd83cb4870');\n",
              "        const dataTable =\n",
              "          await google.colab.kernel.invokeFunction('convertToInteractive',\n",
              "                                                    [key], {});\n",
              "        if (!dataTable) return;\n",
              "\n",
              "        const docLinkHtml = 'Like what you see? Visit the ' +\n",
              "          '<a target=\"_blank\" href=https://colab.research.google.com/notebooks/data_table.ipynb>data table notebook</a>'\n",
              "          + ' to learn more about interactive tables.';\n",
              "        element.innerHTML = '';\n",
              "        dataTable['output_type'] = 'display_data';\n",
              "        await google.colab.output.renderOutput(dataTable, element);\n",
              "        const docLink = document.createElement('div');\n",
              "        docLink.innerHTML = docLinkHtml;\n",
              "        element.appendChild(docLink);\n",
              "      }\n",
              "    </script>\n",
              "  </div>\n",
              "\n",
              "\n",
              "    <div id=\"df-1d5c3271-aeb5-42fd-be8e-789810b4f44d\">\n",
              "      <button class=\"colab-df-quickchart\" onclick=\"quickchart('df-1d5c3271-aeb5-42fd-be8e-789810b4f44d')\"\n",
              "                title=\"Suggest charts\"\n",
              "                style=\"display:none;\">\n",
              "\n",
              "<svg xmlns=\"http://www.w3.org/2000/svg\" height=\"24px\"viewBox=\"0 0 24 24\"\n",
              "     width=\"24px\">\n",
              "    <g>\n",
              "        <path d=\"M19 3H5c-1.1 0-2 .9-2 2v14c0 1.1.9 2 2 2h14c1.1 0 2-.9 2-2V5c0-1.1-.9-2-2-2zM9 17H7v-7h2v7zm4 0h-2V7h2v10zm4 0h-2v-4h2v4z\"/>\n",
              "    </g>\n",
              "</svg>\n",
              "      </button>\n",
              "\n",
              "<style>\n",
              "  .colab-df-quickchart {\n",
              "      --bg-color: #E8F0FE;\n",
              "      --fill-color: #1967D2;\n",
              "      --hover-bg-color: #E2EBFA;\n",
              "      --hover-fill-color: #174EA6;\n",
              "      --disabled-fill-color: #AAA;\n",
              "      --disabled-bg-color: #DDD;\n",
              "  }\n",
              "\n",
              "  [theme=dark] .colab-df-quickchart {\n",
              "      --bg-color: #3B4455;\n",
              "      --fill-color: #D2E3FC;\n",
              "      --hover-bg-color: #434B5C;\n",
              "      --hover-fill-color: #FFFFFF;\n",
              "      --disabled-bg-color: #3B4455;\n",
              "      --disabled-fill-color: #666;\n",
              "  }\n",
              "\n",
              "  .colab-df-quickchart {\n",
              "    background-color: var(--bg-color);\n",
              "    border: none;\n",
              "    border-radius: 50%;\n",
              "    cursor: pointer;\n",
              "    display: none;\n",
              "    fill: var(--fill-color);\n",
              "    height: 32px;\n",
              "    padding: 0;\n",
              "    width: 32px;\n",
              "  }\n",
              "\n",
              "  .colab-df-quickchart:hover {\n",
              "    background-color: var(--hover-bg-color);\n",
              "    box-shadow: 0 1px 2px rgba(60, 64, 67, 0.3), 0 1px 3px 1px rgba(60, 64, 67, 0.15);\n",
              "    fill: var(--button-hover-fill-color);\n",
              "  }\n",
              "\n",
              "  .colab-df-quickchart-complete:disabled,\n",
              "  .colab-df-quickchart-complete:disabled:hover {\n",
              "    background-color: var(--disabled-bg-color);\n",
              "    fill: var(--disabled-fill-color);\n",
              "    box-shadow: none;\n",
              "  }\n",
              "\n",
              "  .colab-df-spinner {\n",
              "    border: 2px solid var(--fill-color);\n",
              "    border-color: transparent;\n",
              "    border-bottom-color: var(--fill-color);\n",
              "    animation:\n",
              "      spin 1s steps(1) infinite;\n",
              "  }\n",
              "\n",
              "  @keyframes spin {\n",
              "    0% {\n",
              "      border-color: transparent;\n",
              "      border-bottom-color: var(--fill-color);\n",
              "      border-left-color: var(--fill-color);\n",
              "    }\n",
              "    20% {\n",
              "      border-color: transparent;\n",
              "      border-left-color: var(--fill-color);\n",
              "      border-top-color: var(--fill-color);\n",
              "    }\n",
              "    30% {\n",
              "      border-color: transparent;\n",
              "      border-left-color: var(--fill-color);\n",
              "      border-top-color: var(--fill-color);\n",
              "      border-right-color: var(--fill-color);\n",
              "    }\n",
              "    40% {\n",
              "      border-color: transparent;\n",
              "      border-right-color: var(--fill-color);\n",
              "      border-top-color: var(--fill-color);\n",
              "    }\n",
              "    60% {\n",
              "      border-color: transparent;\n",
              "      border-right-color: var(--fill-color);\n",
              "    }\n",
              "    80% {\n",
              "      border-color: transparent;\n",
              "      border-right-color: var(--fill-color);\n",
              "      border-bottom-color: var(--fill-color);\n",
              "    }\n",
              "    90% {\n",
              "      border-color: transparent;\n",
              "      border-bottom-color: var(--fill-color);\n",
              "    }\n",
              "  }\n",
              "</style>\n",
              "\n",
              "      <script>\n",
              "        async function quickchart(key) {\n",
              "          const quickchartButtonEl =\n",
              "            document.querySelector('#' + key + ' button');\n",
              "          quickchartButtonEl.disabled = true;  // To prevent multiple clicks.\n",
              "          quickchartButtonEl.classList.add('colab-df-spinner');\n",
              "          try {\n",
              "            const charts = await google.colab.kernel.invokeFunction(\n",
              "                'suggestCharts', [key], {});\n",
              "          } catch (error) {\n",
              "            console.error('Error during call to suggestCharts:', error);\n",
              "          }\n",
              "          quickchartButtonEl.classList.remove('colab-df-spinner');\n",
              "          quickchartButtonEl.classList.add('colab-df-quickchart-complete');\n",
              "        }\n",
              "        (() => {\n",
              "          let quickchartButtonEl =\n",
              "            document.querySelector('#df-1d5c3271-aeb5-42fd-be8e-789810b4f44d button');\n",
              "          quickchartButtonEl.style.display =\n",
              "            google.colab.kernel.accessAllowed ? 'block' : 'none';\n",
              "        })();\n",
              "      </script>\n",
              "    </div>\n",
              "\n",
              "    </div>\n",
              "  </div>\n"
            ],
            "application/vnd.google.colaboratory.intrinsic+json": {
              "type": "dataframe",
              "summary": "{\n  \"name\": \"df\",\n  \"rows\": 10,\n  \"fields\": [\n    {\n      \"column\": \"title\",\n      \"properties\": {\n        \"dtype\": \"string\",\n        \"num_unique_values\": 10,\n        \"samples\": [\n          \"Nvidia stock is on a tear. This \\u2018next big thing\\u2019 can drive more gains. | Company Business News - Mint\",\n          \"Super Micro Stock (SMCI) Jumps About 60% \\u2014 Is This the Next Nvidia? - TipRanks\",\n          \"Better Artificial Intelligence Stock: Nvidia vs. Meta Platforms - The Motley Fool\"\n        ],\n        \"semantic_type\": \"\",\n        \"description\": \"\"\n      }\n    },\n    {\n      \"column\": \"positive\",\n      \"properties\": {\n        \"dtype\": \"number\",\n        \"std\": 0.3130305096951414,\n        \"min\": 0.0,\n        \"max\": 0.99,\n        \"num_unique_values\": 3,\n        \"samples\": [\n          0.99,\n          0.001,\n          0.0\n        ],\n        \"semantic_type\": \"\",\n        \"description\": \"\"\n      }\n    },\n    {\n      \"column\": \"neutral\",\n      \"properties\": {\n        \"dtype\": \"number\",\n        \"std\": 0.45471402490405377,\n        \"min\": 0.0,\n        \"max\": 1.0,\n        \"num_unique_values\": 7,\n        \"samples\": [\n          0.004,\n          0.819,\n          0.903\n        ],\n        \"semantic_type\": \"\",\n        \"description\": \"\"\n      }\n    },\n    {\n      \"column\": \"negative\",\n      \"properties\": {\n        \"dtype\": \"number\",\n        \"std\": 0.41102500599787795,\n        \"min\": 0.0,\n        \"max\": 1.0,\n        \"num_unique_values\": 7,\n        \"samples\": [\n          0.005,\n          0.18,\n          0.097\n        ],\n        \"semantic_type\": \"\",\n        \"description\": \"\"\n      }\n    }\n  ]\n}"
            }
          },
          "metadata": {},
          "execution_count": 21
        }
      ]
    }
  ]
}